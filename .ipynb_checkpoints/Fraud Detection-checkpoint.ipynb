{
 "cells": [
  {
   "cell_type": "markdown",
   "metadata": {},
   "source": [
    "<h1> Coding Challenge: Fraud detection </h1>\n",
    "    \n",
    "<h2>objectif: </h2>\n",
    "Sur la base d'un dataset de transactions, évaluer si un utilisateur va commettre une fraude ou non.\n",
    "Les données sources sont les fichiers data.csv (historique de transactions) et country.csv (correspondance entre pays et adresses IP)\n",
    "\n",
    "<h3>Approche / questions: </h3>\n",
    "    \n",
    "    1) For each user, determine her country based on the numeric IP address.\n",
    "    \n",
    "    2) Build a model to predict whether an activity is fraudulent or not. Explain how different assumptions about the cost of false positives vs false negatives would impact the model.\n",
    "\n",
    "    3) Your boss is a bit worried about using a model she doesn't understand for something as important as fraud detection. How would you explain her how the model is making the predictions? Not from a mathematical perspective (she couldn't care less about that), but from a user perspective. What kinds of users are more likely to be classified as at risk? What are their characteristics?\n",
    "\n",
    "    4) Let's say you now have this model which can be used live to predict in real time if an activity is fraudulent or not. From a product perspective, how would you use it? That is,what kind of different user experiences would you build based on the model output?\n",
    " "
   ]
  },
  {
   "cell_type": "markdown",
   "metadata": {},
   "source": [
    "<H2> STEP 1 => charger les données et enrichir avec le pays</h2>"
   ]
  },
  {
   "cell_type": "code",
   "execution_count": null,
   "metadata": {},
   "outputs": [],
   "source": [
    "import pandas as pd\n",
    "data = pd.read_csv(\"data.csv\")\n",
    "countries = pd.read_csv(\"country.csv\")"
   ]
  },
  {
   "cell_type": "code",
   "execution_count": null,
   "metadata": {},
   "outputs": [],
   "source": [
    "# enrichissement de \"data\" avec le nom du pays correspondant a l'IP\n",
    "def country_finder(ip):\n",
    "    ip = float(ip)\n",
    "    try:\n",
    "        country = countries.loc[(ip > countries.lower_bound_ip_address) & (ip < countries.upper_bound_ip_address ),\"country\"].values[0]\n",
    "        return country\n",
    "    except:\n",
    "        return \"not_found\"\n",
    "    \n",
    "data[\"country\"] = [country_finder(r) for r in data.ip_address]\n"
   ]
  },
  {
   "cell_type": "markdown",
   "metadata": {},
   "source": [
    "<h3> L'ajout des pays est fait cependant on constate ci dessous que pour + de 21k enregistrements aucun pays n'a pu être déterminé. Pour l'instant ces enregistrements sont conservés, nous réévaluerons plus tard s'il est préférable de les éliminer pour optimiser le modèle </h3>"
   ]
  },
  {
   "cell_type": "code",
   "execution_count": 50,
   "metadata": {},
   "outputs": [
    {
     "data": {
      "text/plain": [
       "country\n",
       "United States     58049\n",
       "not_found         21966\n",
       "China             12038\n",
       "Japan              7306\n",
       "United Kingdom     4490\n",
       "Name: user_id, dtype: int64"
      ]
     },
     "execution_count": 50,
     "metadata": {},
     "output_type": "execute_result"
    }
   ],
   "source": [
    "data.groupby(\"country\").count()[\"user_id\"].sort_values(ascending = False).head()"
   ]
  },
  {
   "cell_type": "markdown",
   "metadata": {},
   "source": [
    "<h2>Step 2 => construction d'un modèle de prédiction</h2>\n"
   ]
  },
  {
   "cell_type": "code",
   "execution_count": 51,
   "metadata": {},
   "outputs": [
    {
     "ename": "ModuleNotFoundError",
     "evalue": "No module named 'skleanr'",
     "output_type": "error",
     "traceback": [
      "\u001b[0;31m---------------------------------------------------------------------------\u001b[0m",
      "\u001b[0;31mModuleNotFoundError\u001b[0m                       Traceback (most recent call last)",
      "\u001b[0;32m<ipython-input-51-ccff6888f6ab>\u001b[0m in \u001b[0;36m<module>\u001b[0;34m()\u001b[0m\n\u001b[1;32m      1\u001b[0m \u001b[0;32mfrom\u001b[0m \u001b[0msklearn\u001b[0m\u001b[0;34m.\u001b[0m\u001b[0mlinear_model\u001b[0m \u001b[0;32mimport\u001b[0m \u001b[0mLogisticRegression\u001b[0m\u001b[0;34m\u001b[0m\u001b[0;34m\u001b[0m\u001b[0m\n\u001b[1;32m      2\u001b[0m \u001b[0;32mfrom\u001b[0m \u001b[0msklearn\u001b[0m\u001b[0;34m.\u001b[0m\u001b[0mmodel_selection\u001b[0m \u001b[0;32mimport\u001b[0m \u001b[0mtrain_test_split\u001b[0m\u001b[0;34m\u001b[0m\u001b[0;34m\u001b[0m\u001b[0m\n\u001b[0;32m----> 3\u001b[0;31m \u001b[0;32mfrom\u001b[0m \u001b[0mskleanr\u001b[0m\u001b[0;34m.\u001b[0m\u001b[0mmodel_selection\u001b[0m \u001b[0;32mimport\u001b[0m \u001b[0mcross_val_score\u001b[0m\u001b[0;34m\u001b[0m\u001b[0;34m\u001b[0m\u001b[0m\n\u001b[0m",
      "\u001b[0;31mModuleNotFoundError\u001b[0m: No module named 'skleanr'"
     ]
    }
   ],
   "source": [
    "from sklearn.linear_model import LogisticRegression\n",
    "from sklearn.model_selection import train_test_split\n",
    "from skleanr.model_selection import cross_val_score\n"
   ]
  },
  {
   "cell_type": "code",
   "execution_count": null,
   "metadata": {},
   "outputs": [],
   "source": [
    "X = data.loc[:,:-1]\n",
    "y = data.loc[:,-1]\n",
    "X_train, X_test, y_train, y_split = train_test_split(X,y)\n"
   ]
  },
  {
   "cell_type": "code",
   "execution_count": 10,
   "metadata": {},
   "outputs": [
    {
     "data": {
      "text/plain": [
       "user_id           151112\n",
       "signup_time       151112\n",
       "purchase_time     151112\n",
       "purchase_value    151112\n",
       "device_id         151112\n",
       "source            151112\n",
       "browser           151112\n",
       "sex               151112\n",
       "age               151112\n",
       "ip_address        151112\n",
       "class             151112\n",
       "country           151112\n",
       "dtype: int64"
      ]
     },
     "execution_count": 10,
     "metadata": {},
     "output_type": "execute_result"
    }
   ],
   "source": []
  },
  {
   "cell_type": "code",
   "execution_count": 30,
   "metadata": {},
   "outputs": [
    {
     "data": {
      "text/plain": [
       "country\n",
       "Afghanistan                            6\n",
       "Albania                               13\n",
       "Algeria                              122\n",
       "Angola                                24\n",
       "Antigua and Barbuda                    3\n",
       "Argentina                            661\n",
       "Armenia                               15\n",
       "Australia                           1844\n",
       "Austria                              435\n",
       "Azerbaijan                            23\n",
       "Bahamas                                4\n",
       "Bahrain                               14\n",
       "Bangladesh                            37\n",
       "Barbados                               9\n",
       "Belarus                               72\n",
       "Belgium                              409\n",
       "Belize                                 7\n",
       "Benin                                  2\n",
       "Bermuda                                2\n",
       "Bhutan                                 2\n",
       "Bolivia                               53\n",
       "Bonaire; Sint Eustatius; Saba          1\n",
       "Bosnia and Herzegowina                30\n",
       "Botswana                               3\n",
       "Brazil                              2961\n",
       "British Indian Ocean Territory         1\n",
       "Brunei Darussalam                      7\n",
       "Bulgaria                             166\n",
       "Burkina Faso                           2\n",
       "Burundi                                1\n",
       "                                   ...  \n",
       "South Sudan                            1\n",
       "Spain                               1027\n",
       "Sri Lanka                             31\n",
       "Sudan                                 25\n",
       "Sweden                              1090\n",
       "Switzerland                          785\n",
       "Syrian Arab Republic                  24\n",
       "Taiwan; Republic of China (ROC)     1237\n",
       "Tajikistan                             1\n",
       "Tanzania United Republic of           15\n",
       "Thailand                             291\n",
       "Trinidad and Tobago                   22\n",
       "Tunisia                              118\n",
       "Turkey                               568\n",
       "Turkmenistan                           1\n",
       "Uganda                                13\n",
       "Ukraine                              429\n",
       "United Arab Emirates                 114\n",
       "United Kingdom                      4490\n",
       "United States                      58049\n",
       "Uruguay                               80\n",
       "Uzbekistan                            10\n",
       "Vanuatu                                1\n",
       "Venezuela                            251\n",
       "Viet Nam                             550\n",
       "Virgin Islands (U.S.)                  3\n",
       "Yemen                                  1\n",
       "Zambia                                10\n",
       "Zimbabwe                               6\n",
       "not_found                          21966\n",
       "Name: user_id, Length: 182, dtype: int64"
      ]
     },
     "execution_count": 30,
     "metadata": {},
     "output_type": "execute_result"
    }
   ],
   "source": []
  },
  {
   "cell_type": "code",
   "execution_count": null,
   "metadata": {},
   "outputs": [],
   "source": []
  }
 ],
 "metadata": {
  "kernelspec": {
   "display_name": "Python 3",
   "language": "python",
   "name": "python3"
  },
  "language_info": {
   "codemirror_mode": {
    "name": "ipython",
    "version": 3
   },
   "file_extension": ".py",
   "mimetype": "text/x-python",
   "name": "python",
   "nbconvert_exporter": "python",
   "pygments_lexer": "ipython3",
   "version": "3.6.8"
  }
 },
 "nbformat": 4,
 "nbformat_minor": 2
}

{
 "cells": [
  {
   "cell_type": "markdown",
   "metadata": {},
   "source": [
    "<h1> Coding Challenge: Fraud detection </h1>\n",
    "    \n",
    "<h2>objectif: </h2>\n",
    "Sur la base d'un dataset de transactions, évaluer si un utilisateur va commettre une fraude ou non.\n",
    "Les données sources sont les fichiers data.csv (historique de transactions) et country.csv (correspondance entre pays et adresses IP)\n",
    "\n",
    "<h3>Approche / questions: </h3>\n",
    "    \n",
    "    1) For each user, determine her country based on the numeric IP address.\n",
    "    \n",
    "    2) Build a model to predict whether an activity is fraudulent or not. Explain how different assumptions about the cost of false positives vs false negatives would impact the model.\n",
    "\n",
    "    3) Your boss is a bit worried about using a model she doesn't understand for something as important as fraud detection. How would you explain her how the model is making the predictions? Not from a mathematical perspective (she couldn't care less about that), but from a user perspective. What kinds of users are more likely to be classified as at risk? What are their characteristics?\n",
    "\n",
    "    4) Let's say you now have this model which can be used live to predict in real time if an activity is fraudulent or not. From a product perspective, how would you use it? That is,what kind of different user experiences would you build based on the model output?\n",
    " "
   ]
  },
  {
   "cell_type": "markdown",
   "metadata": {},
   "source": [
    "<H2> STEP 1 => charger les données et enrichir avec le pays</h2>"
   ]
  },
  {
   "cell_type": "code",
   "execution_count": 363,
   "metadata": {},
   "outputs": [],
   "source": [
    "import pandas as pd\n",
    "data = pd.read_csv(\"data.csv\")\n",
    "countries = pd.read_csv(\"country.csv\")"
   ]
  },
  {
   "cell_type": "code",
   "execution_count": 364,
   "metadata": {},
   "outputs": [],
   "source": [
    "# enrichissement de \"data\" avec le nom du pays correspondant a l'IP\n",
    "def country_finder(ip):\n",
    "    ip = float(ip)\n",
    "    try:\n",
    "        country = countries.loc[(ip > countries.lower_bound_ip_address) & (ip < countries.upper_bound_ip_address ),\"country\"].values[0]\n",
    "        return country\n",
    "    except:\n",
    "        return \"not_found\"\n",
    "    \n",
    "data[\"country\"] = [country_finder(r) for r in data.ip_address]\n"
   ]
  },
  {
   "cell_type": "markdown",
   "metadata": {},
   "source": [
    "<h3> L'ajout des pays est fait cependant on constate ci dessous que pour + de 21k enregistrements aucun pays n'a pu être déterminé. Pour l'instant ces enregistrements sont conservés, nous réévaluerons plus tard s'il est préférable de les éliminer pour optimiser le modèle </h3>"
   ]
  },
  {
   "cell_type": "code",
   "execution_count": 365,
   "metadata": {},
   "outputs": [
    {
     "data": {
      "text/plain": [
       "country\n",
       "United States     58049\n",
       "not_found         21966\n",
       "China             12038\n",
       "Japan              7306\n",
       "United Kingdom     4490\n",
       "Name: user_id, dtype: int64"
      ]
     },
     "execution_count": 365,
     "metadata": {},
     "output_type": "execute_result"
    }
   ],
   "source": [
    "data.groupby(\"country\").count()[\"user_id\"].sort_values(ascending = False).head()"
   ]
  },
  {
   "cell_type": "markdown",
   "metadata": {},
   "source": [
    "<h2>Step 2 => construction d'un modèle de prédiction</h2>\n"
   ]
  },
  {
   "cell_type": "code",
   "execution_count": 211,
   "metadata": {},
   "outputs": [],
   "source": [
    "from sklearn.linear_model import LogisticRegression\n",
    "from sklearn.model_selection import train_test_split\n",
    "from sklearn.model_selection import cross_val_score\n",
    "from sklearn.tree import DecisionTreeClassifier as DTClass\n",
    "from sklearn.ensemble import RandomForestClassifier as RFClass\n",
    "from sklearn.model_selection import cross_val_score\n",
    "from sklearn.preprocessing import StandardScaler"
   ]
  },
  {
   "cell_type": "markdown",
   "metadata": {},
   "source": [
    "*première remarque importante, le dataset est déséquilibré entre les cas de fraude et les cas de non fraude. on réduit le dataset de manière a équilibrer ces 2 catégories, en prenant  un nombre de \"non fraude\" équivalent au nombre de fraude, piochées aléatoirement dans le dataset*"
   ]
  },
  {
   "cell_type": "code",
   "execution_count": 366,
   "metadata": {},
   "outputs": [],
   "source": [
    "data_1 = data[data[\"class\"] == 1]\n",
    "data_0 = data[data[\"class\"] == 0].sample(len(data_1))\n",
    "sample_data = data_1.append(data_0)"
   ]
  },
  {
   "cell_type": "markdown",
   "metadata": {},
   "source": [
    "*Note:\n",
    "on va utiliser un algorythme de type random_forest car cet algorythme a l'avantage d'être transparent et explicite dans son mécanisme de prédiction.\n",
    "A ce stade on conserve la dataset fourni sans + d'optimisation, avec néanmoins une exclusion des colonnes ip_address (remplacée par la pays), device ID et les dates.\n",
    "On verra dans un deuxième temps si le résultat peut être améliorer avec une préparation + spécifique de la donnée.*"
   ]
  },
  {
   "cell_type": "code",
   "execution_count": 219,
   "metadata": {},
   "outputs": [],
   "source": [
    "X = sample_data.drop([\"class\", \"device_id\", \"ip_address\", \"signup_time\", \"purchase_time\"], axis = 1)\n",
    "y = sample_data.loc[:,\"class\"]\n",
    "'''\n",
    "from sklearn import preprocessing\n",
    "le = preprocessing.LabelEncoder()   \n",
    "# on réencode les variables catégoriques en labels (i.e. en nombres) pour que le modele puisse les exploiter\n",
    "# le fit devrait en théorie etre fait sur la donnée de train uniquement, mais en théorie nous devrions disposer également d'une base produit complete de référence. Aussi je retiens le jeu de données complets pour le fit\n",
    "X[\"device_id\"] = le.fit_transform(X.device_id)\n",
    "X[\"source\"] = le.fit_transform(X.source)\n",
    "X[\"browser\"] = le.fit_transform(X.browser)\n",
    "X[\"sex\"] = le.fit_transform(X.sex)\n",
    "X[\"country\"] = le.fit_transform(X.country)\n",
    "\n",
    "'''\n",
    "# encodage des variables quali en variables quanti 1/0\n",
    "X = pd.get_dummies(X, drop_first = True)\n",
    "# séparation du jeu de données en train et test\n",
    "X_train, X_test, y_train, y_test = train_test_split(X,y)\n"
   ]
  },
  {
   "cell_type": "markdown",
   "metadata": {},
   "source": [
    "*on peut par ailleurs visualiser le chemin emprunté par l'arbre pour arriver a ces prédictions. ceci est représenté dans le fichier tree.png en racine, et révèle que les critères discrimants sont une acquisition indirecte du visiteur, l'origine New_zealand, Luxembourg ou Ecuador, une valeur d'achat inférieur a 70, un age inférieur à 30 ans etc... *"
   ]
  },
  {
   "cell_type": "code",
   "execution_count": 220,
   "metadata": {},
   "outputs": [],
   "source": [
    "from sklearn.tree import export_graphviz\n",
    "Dec_tree = DTClass()\n",
    "Dec_tree.fit(X_train, y_train)\n",
    "tree.export_graphviz(Dec_tree, out_file='tree.dot', max_depth = 3, feature_names = X_train.columns) "
   ]
  },
  {
   "cell_type": "markdown",
   "metadata": {},
   "source": [
    "*Note:\n",
    "on entraine un random forest complete (i.e. ensemble d'arbres) et on constante le score avec une cross validation, i.e. le modèle a tourné plusieurs fois pour limiter les risques d'un \"coup de chance\". le résultat obtenu est proche de 67%*"
   ]
  },
  {
   "cell_type": "code",
   "execution_count": 222,
   "metadata": {},
   "outputs": [
    {
     "name": "stderr",
     "output_type": "stream",
     "text": [
      "/anaconda3/lib/python3.6/site-packages/sklearn/ensemble/forest.py:246: FutureWarning: The default value of n_estimators will change from 10 in version 0.20 to 100 in 0.22.\n",
      "  \"10 in version 0.20 to 100 in 0.22.\", FutureWarning)\n",
      "/anaconda3/lib/python3.6/site-packages/sklearn/ensemble/forest.py:246: FutureWarning: The default value of n_estimators will change from 10 in version 0.20 to 100 in 0.22.\n",
      "  \"10 in version 0.20 to 100 in 0.22.\", FutureWarning)\n",
      "/anaconda3/lib/python3.6/site-packages/sklearn/ensemble/forest.py:246: FutureWarning: The default value of n_estimators will change from 10 in version 0.20 to 100 in 0.22.\n",
      "  \"10 in version 0.20 to 100 in 0.22.\", FutureWarning)\n",
      "/anaconda3/lib/python3.6/site-packages/sklearn/ensemble/forest.py:246: FutureWarning: The default value of n_estimators will change from 10 in version 0.20 to 100 in 0.22.\n",
      "  \"10 in version 0.20 to 100 in 0.22.\", FutureWarning)\n",
      "/anaconda3/lib/python3.6/site-packages/sklearn/ensemble/forest.py:246: FutureWarning: The default value of n_estimators will change from 10 in version 0.20 to 100 in 0.22.\n",
      "  \"10 in version 0.20 to 100 in 0.22.\", FutureWarning)\n"
     ]
    },
    {
     "data": {
      "text/plain": [
       "<matplotlib.axes._subplots.AxesSubplot at 0x1ab077c278>"
      ]
     },
     "execution_count": 222,
     "metadata": {},
     "output_type": "execute_result"
    },
    {
     "data": {
      "image/png": "[encoded data removed]",
      "text/plain": [
       "<Figure size 432x288 with 1 Axes>"
      ]
     },
     "metadata": {
      "needs_background": "light"
     },
     "output_type": "display_data"
    }
   ],
   "source": [
    "# on mesure la précision du modèle sur 5 subsets de notre jeu de données \"train\", afin de limiter l'influence des paramètres aléatoires\n",
    "cv_fold = 5\n",
    "model = RFClass()\n",
    "scores = cross_val_score(model, X_train, y_train, cv=cv_fold)\n",
    "\n",
    "sns.boxplot(scores)"
   ]
  },
  {
   "cell_type": "markdown",
   "metadata": {},
   "source": [
    "**Note:**\n",
    "on teste ce modèle sur un réel jeu de test. Il en ressort une précision de 69%, ce qui est cohérent avec le score obtenu sur les données d'entrainement. Néanmoins, la matrice de confusion révèle:\n",
    "    - 2700 cas de non-fraudes, prédits correctement\n",
    "    - 2200 cas de fraudes, prédits correctement\n",
    "    - 910 cas de fausses alertes\n",
    "    - 1300 cas de fraudes non détectées"
   ]
  },
  {
   "cell_type": "code",
   "execution_count": 224,
   "metadata": {},
   "outputs": [
    {
     "name": "stdout",
     "output_type": "stream",
     "text": [
      "la précision sur jeu de test est de 68%\n"
     ]
    },
    {
     "data": {
      "text/plain": [
       "<matplotlib.axes._subplots.AxesSubplot at 0x1a40086438>"
      ]
     },
     "execution_count": 224,
     "metadata": {},
     "output_type": "execute_result"
    },
    {
     "data": {
      "image/png": "[encoded data removed]",
      "text/plain": [
       "<Figure size 432x288 with 2 Axes>"
      ]
     },
     "metadata": {
      "needs_background": "light"
     },
     "output_type": "display_data"
    }
   ],
   "source": [
    "model.fit(X_train,y_train)\n",
    "y_pred = model.predict(X_test)\n",
    "\n",
    "score = sum((y_pred == y_test))/len(y_test)\n",
    "print(\"la précision sur jeu de test est de {}%\".format(round(score * 100)))\n",
    "\n",
    "from sklearn.metrics import confusion_matrix\n",
    "sns.heatmap(confusion_matrix(y_test, y_pred), annot=True)"
   ]
  },
  {
   "cell_type": "markdown",
   "metadata": {},
   "source": [
    "<h2> Feature engineering et amélioration du dataset </h2>"
   ]
  },
  {
   "cell_type": "markdown",
   "metadata": {},
   "source": [
    "1) nous avions éliminé les dates, néanmoins nous pouvons réintégrer certains éléments tels que le temps écoulé entre la création du compte et la date de l'achat. Nous supposons ici qu'un comportement frauduleux pourrait être détecté avec un délai singulier entre la création du compte client et le premier achat. Le graphique boxplot ci dessous semble confirmer que les achats frauduleux (colonne 1) correspondent a des user dont la date de création est proche du premier achat. nous conserverons donc cet éléments dans notre jeu de données\n",
    "\n"
   ]
  },
  {
   "cell_type": "code",
   "execution_count": 367,
   "metadata": {},
   "outputs": [
    {
     "data": {
      "text/plain": [
       "<matplotlib.axes._subplots.AxesSubplot at 0x1acdd24b70>"
      ]
     },
     "execution_count": 367,
     "metadata": {},
     "output_type": "execute_result"
    },
    {
     "data": {
      "image/png": "[encoded data removed]",
      "text/plain": [
       "<Figure size 432x288 with 1 Axes>"
      ]
     },
     "metadata": {
      "needs_background": "light"
     },
     "output_type": "display_data"
    }
   ],
   "source": [
    "time_delta = pd.to_datetime(sample_data[\"purchase_time\"]) - pd.to_datetime(sample_data[\"signup_time\"])\n",
    "sample_data[\"elapsed_since_reg\"] = [r.days * 24 * 3600 + r.seconds for r in time_delta]\n",
    "sns.boxplot(data=sample_data, x = \"class\", y = \"elapsed_since_reg\")"
   ]
  },
  {
   "cell_type": "markdown",
   "metadata": {},
   "source": [
    "2) nous avions éliminé les devices ID car ils n'étaient pas immédiatement exploitable, néanmoins nous pouvons réintégrer certains éléments tels que le nombre d'achats réalisés à partir d'1 seul ID. En effet on peut supposer que les achats frauduleux seront réalisés à partir de robots ou faux utilisateurs provenant d'un device. Le graphique ci dessous semble confirmer que les acheteurs frauduleux tendent à utiliser une meme machine pour un grand nombre d'achats, ce qui est plus exceptionnel chez les acheteurs réels. Nous conserverons donc cet objet dans notre modèle.\n",
    "\n"
   ]
  },
  {
   "cell_type": "code",
   "execution_count": 368,
   "metadata": {},
   "outputs": [
    {
     "data": {
      "text/plain": [
       "<matplotlib.axes._subplots.AxesSubplot at 0x1acdd16198>"
      ]
     },
     "execution_count": 368,
     "metadata": {},
     "output_type": "execute_result"
    },
    {
     "data": {
      "image/png": "[encoded data removed]",
      "text/plain": [
       "<Figure size 432x288 with 1 Axes>"
      ]
     },
     "metadata": {
      "needs_background": "light"
     },
     "output_type": "display_data"
    }
   ],
   "source": [
    "# compter le nombre de transaction par device\n",
    "#count_by_device = data.groupby([\"class\",\"device_id\"]).count()\n",
    "device_count = sample_data['device_id'].value_counts()\n",
    "sample_data[\"device_pur_count\"] = sample_data.device_id.apply(lambda x: device_count[x])\n",
    "sns.boxplot(data=sample_data, x = \"class\", y = \"device_pur_count\")"
   ]
  },
  {
   "cell_type": "markdown",
   "metadata": {},
   "source": [
    "3) on note que certains pays concentrent un part importante de transactions frauduleuses...*"
   ]
  },
  {
   "cell_type": "code",
   "execution_count": 382,
   "metadata": {},
   "outputs": [
    {
     "name": "stdout",
     "output_type": "stream",
     "text": [
      "                          class  user_id_r\n",
      "country                                   \n",
      "Afghanistan            1.000000          1\n",
      "Turkmenistan           1.000000          1\n",
      "Virgin Islands (U.S.)  1.000000          1\n",
      "Honduras               1.000000          1\n",
      "Malawi                 1.000000          1\n",
      "Montenegro             1.000000          1\n",
      "Namibia                0.909091         11\n",
      "Luxembourg             0.875000         32\n",
      "Sri Lanka              0.866667         15\n",
      "Ecuador                0.848485         33\n",
      "Kuwait                 0.807692         26\n",
      "Ireland                0.774648         71\n",
      "Bolivia                0.764706         17\n",
      "Tunisia                0.756098         41\n",
      "Peru                   0.756098         41\n",
      "New Zealand            0.696629         89\n",
      "Saudi Arabia           0.694444         72\n",
      "Chile                  0.688172         93\n",
      "Armenia                0.666667          3\n",
      "El Salvador            0.666667          3\n"
     ]
    }
   ],
   "source": [
    "country_avg_fraud = sample_data.groupby(\"country\").mean().sort_values(\"class\", ascending = False)\n",
    "country_sales_count = sample_data.groupby(\"country\").count()\n",
    "country_avg_fraud = country_avg_fraud.join(country_sales_count, rsuffix = '_r')\n",
    "country_avg_fraud = country_avg_fraud.loc[:,[\"class\",\"user_id_r\"]]\n",
    "print(country_avg_fraud.sort_values([\"class\",\"user_id_r\"],ascending=False).head(20))\n"
   ]
  },
  {
   "cell_type": "markdown",
   "metadata": {},
   "source": [
    "*...par ailleurs le cas des pays \"not found\" semble contenir un part équilibrée de fraude et de non fraude (environ 47%) ce qui est cohérent avec l'ensemble du dataset et n'impactera probablement pas la prédiction. On peut donc le conserver dans le jeu de données.\n"
   ]
  },
  {
   "cell_type": "code",
   "execution_count": 385,
   "metadata": {},
   "outputs": [
    {
     "name": "stdout",
     "output_type": "stream",
     "text": [
      "cas particulier des pays 'not found'               class  user_id_r\n",
      "country                       \n",
      "not_found  0.479501       3927\n"
     ]
    }
   ],
   "source": [
    "print(\"cas particulier des pays 'not found'\",country_avg_fraud[country_avg_fraud.index == \"not_found\"])"
   ]
  },
  {
   "cell_type": "markdown",
   "metadata": {},
   "source": [
    "<h2> Nouveau test du modèle avec jeu de données enrichi + optimisation des paramètres</h2>"
   ]
  },
  {
   "cell_type": "code",
   "execution_count": 412,
   "metadata": {},
   "outputs": [
    {
     "data": {
      "text/plain": [
       "GridSearchCV(cv=5, error_score='raise-deprecating',\n",
       "       estimator=RandomForestClassifier(bootstrap=True, class_weight=None, criterion='gini',\n",
       "            max_depth=None, max_features='auto', max_leaf_nodes=None,\n",
       "            min_impurity_decrease=0.0, min_impurity_split=None,\n",
       "            min_samples_leaf=1, min_samples_split=2,\n",
       "            min_weight_fraction_leaf=0.0, n_estimators='warn', n_jobs=None,\n",
       "            oob_score=False, random_state=None, verbose=0,\n",
       "            warm_start=False),\n",
       "       fit_params=None, iid='warn', n_jobs=None,\n",
       "       param_grid=[{'max_features': [6, 7, 8], 'n_estimators': [100, 200, 300]}],\n",
       "       pre_dispatch='2*n_jobs', refit=True, return_train_score='warn',\n",
       "       scoring=None, verbose=0)"
      ]
     },
     "execution_count": 412,
     "metadata": {},
     "output_type": "execute_result"
    }
   ],
   "source": [
    "# on utilise cette fois ci nos données enrichies\n",
    "new_X = sample_data.drop([\"class\", \"user_id\",\"device_id\", \"ip_address\", \"signup_time\", \"purchase_time\"], axis = 1)\n",
    "new_y = sample_data.loc[:,\"class\"]\n",
    "\n",
    "new_X = pd.get_dummies(new_X, drop_first = True)\n",
    "X_train, X_test, y_train, y_test = train_test_split(new_X,new_y)\n",
    "\n",
    "from sklearn.model_selection import GridSearchCV\n",
    "\n",
    "# on mesure la précision du modèle sur 5 subsets de notre jeu de données \"train\", afin de limiter l'influence des paramètres aléatoires\n",
    "cv_fold = 5\n",
    "\n",
    "# on utilise cette fois ci une fonctionnalité GridSearch qui optimisera seule les parametres de notre algo \n",
    "param_grid = [\n",
    "  {'max_features': [6,7,8], 'n_estimators': [100,200,300]},            ]\n",
    "model = RFClass()\n",
    "\n",
    "clf = GridSearchCV(model, param_grid, cv=cv_fold)\n",
    "clf.fit(X_train,y_train)"
   ]
  },
  {
   "cell_type": "code",
   "execution_count": 408,
   "metadata": {},
   "outputs": [],
   "source": [
    "scores = cross_val_score(clf.best_estimator_, X_train, y_train, cv=cv_fold)"
   ]
  },
  {
   "cell_type": "markdown",
   "metadata": {},
   "source": [
    "*on mesure la précision du modèle avec ces nouveaux paramètres et on constante un gain notable. Le modèle et maintenant précis à 77%"
   ]
  },
  {
   "cell_type": "code",
   "execution_count": 409,
   "metadata": {},
   "outputs": [
    {
     "data": {
      "text/plain": [
       "<matplotlib.axes._subplots.AxesSubplot at 0x1a405b4a20>"
      ]
     },
     "execution_count": 409,
     "metadata": {},
     "output_type": "execute_result"
    },
    {
     "data": {
      "image/png": "[encoded data removed]",
      "text/plain": [
       "<Figure size 432x288 with 1 Axes>"
      ]
     },
     "metadata": {
      "needs_background": "light"
     },
     "output_type": "display_data"
    }
   ],
   "source": [
    "sns.boxplot(scores)"
   ]
  },
  {
   "cell_type": "markdown",
   "metadata": {},
   "source": [
    "**Note:**\n",
    "on teste ce modèle sur un réel jeu de test. Il en ressort une précision de 76%, ce qui est cohérent avec le score obtenu sur les données d'entrainement. Néanmoins, la matrice de confusion révèle:\n",
    "    - 3200 cas de non-fraudes, prédits correctement\n",
    "    - 2100 cas de fraudes, prédits correctement\n",
    "    - 350 cas de fausses alertes\n",
    "    - 1400 cas de nfraudes non détectées\n",
    "  \n",
    "Les traitements d'optimisation ont eu un effet positif sur le résultat et ont permis de **diminuer le nombre de fraudes non détectées.**"
   ]
  },
  {
   "cell_type": "code",
   "execution_count": 410,
   "metadata": {},
   "outputs": [
    {
     "name": "stderr",
     "output_type": "stream",
     "text": [
      "/anaconda3/lib/python3.6/site-packages/sklearn/ensemble/forest.py:246: FutureWarning: The default value of n_estimators will change from 10 in version 0.20 to 100 in 0.22.\n",
      "  \"10 in version 0.20 to 100 in 0.22.\", FutureWarning)\n"
     ]
    },
    {
     "name": "stdout",
     "output_type": "stream",
     "text": [
      "la précision sur jeu de test est de 76%\n"
     ]
    },
    {
     "data": {
      "text/plain": [
       "<matplotlib.axes._subplots.AxesSubplot at 0x1adc8c30b8>"
      ]
     },
     "execution_count": 410,
     "metadata": {},
     "output_type": "execute_result"
    },
    {
     "data": {
      "image/png": "[encoded data removed]",
      "text/plain": [
       "<Figure size 432x288 with 2 Axes>"
      ]
     },
     "metadata": {
      "needs_background": "light"
     },
     "output_type": "display_data"
    }
   ],
   "source": [
    "model.fit(X_train,y_train)\n",
    "y_pred = model.predict(X_test)\n",
    "\n",
    "score = sum((y_pred == y_test))/len(y_test)\n",
    "print(\"la précision sur jeu de test est de {}%\".format(round(score * 100)))\n",
    "sns.heatmap(confusion_matrix(y_test, y_pred), annot=True)"
   ]
  },
  {
   "cell_type": "markdown",
   "metadata": {},
   "source": [
    "<h2> step 3 => explication de la logique de l'algo "
   ]
  },
  {
   "cell_type": "code",
   "execution_count": 411,
   "metadata": {},
   "outputs": [],
   "source": [
    "Dec_tree = DTClass()\n",
    "Dec_tree.fit(X_train, y_train)\n",
    "tree.export_graphviz(Dec_tree, out_file='tree2.dot', max_depth = 3, feature_names = X_train.columns) "
   ]
  },
  {
   "cell_type": "markdown",
   "metadata": {},
   "source": [
    "*Le fichier tree2.png décrit le cheminement de l'algo. Les principaux critères discrimant pour identifier une fraude principale sont:\n",
    "    1 - le device_id a été utilisé pour + d'1 commande\n",
    "    2 - le client arrive sur le site web par acquisition directe\n",
    "    3 - le temps écoulé entre la création du compte et l'achat est inférieur à 30 heures\n",
    "    etc..\n",
    "    "
   ]
  },
  {
   "cell_type": "markdown",
   "metadata": {},
   "source": [
    "<h2> step 4 => application productive\n",
    "    "
   ]
  },
  {
   "cell_type": "markdown",
   "metadata": {},
   "source": [
    "Dans l'état actuel des choses,  l'algorythme ne permet d'identifier que 65% des fraudes environs (2100 sur un total de 3500). Bien que ceci ne soit pas parfait, il est à noté qu'a l'inverse l'algo ne se trompe que dans 10% des cas pour les clients réguliers, ce qui signifie qu'un client sur 10 verrait sa commande mise en attente de validation par le service client par ex., qui pourrait confirmer l'identité de l'acheteur par un moyen tiers (justif domicile etc...)"
   ]
  },
  {
   "cell_type": "code",
   "execution_count": null,
   "metadata": {},
   "outputs": [],
   "source": []
  }
 ],
 "metadata": {
  "kernelspec": {
   "display_name": "Python 3",
   "language": "python",
   "name": "python3"
  },
  "language_info": {
   "codemirror_mode": {
    "name": "ipython",
    "version": 3
   },
   "file_extension": ".py",
   "mimetype": "text/x-python",
   "name": "python",
   "nbconvert_exporter": "python",
   "pygments_lexer": "ipython3",
   "version": "3.6.8"
  }
 },
 "nbformat": 4,
 "nbformat_minor": 2
}
